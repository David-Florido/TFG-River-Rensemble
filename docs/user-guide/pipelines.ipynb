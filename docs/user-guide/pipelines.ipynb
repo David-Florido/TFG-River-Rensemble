{
 "cells": [
  {
   "cell_type": "markdown",
   "metadata": {},
   "source": [
    "# Pipelines"
   ]
  },
  {
   "cell_type": "markdown",
   "metadata": {},
   "source": [
    "Pipelines are an integral part of river. We encourage their usage and apply them in many of their examples.\n",
    "\n",
    "The `compose.Pipeline` contains all the logic for building and applying pipelines. A pipeline is essentially a list of estimators that are applied in sequence. The only requirement is that the first `n - 1` steps be transformers. The last step can be a regressor, a classifier, a clusterer, a transformer, etc. Here is an example:"
   ]
  },
  {
   "cell_type": "code",
   "execution_count": 1,
   "metadata": {
    "tags": []
   },
   "outputs": [],
   "source": [
    "from river import compose\n",
    "from river import linear_model\n",
    "from river import preprocessing\n",
    "from river import feature_extraction\n",
    "\n",
    "model = compose.Pipeline(\n",
    "    preprocessing.StandardScaler(),\n",
    "    feature_extraction.PolynomialExtender(),\n",
    "    linear_model.LinearRegression()\n",
    ")"
   ]
  },
  {
   "cell_type": "markdown",
   "metadata": {},
   "source": [
    "You can also use the `|` operator, as so:"
   ]
  },
  {
   "cell_type": "code",
   "execution_count": 2,
   "metadata": {
    "tags": []
   },
   "outputs": [],
   "source": [
    "model = (\n",
    "    preprocessing.StandardScaler() |\n",
    "    feature_extraction.PolynomialExtender() |\n",
    "    linear_model.LinearRegression()\n",
    ")"
   ]
  },
  {
   "cell_type": "markdown",
   "metadata": {},
   "source": [
    "Or, equally:"
   ]
  },
  {
   "cell_type": "code",
   "execution_count": 3,
   "metadata": {
    "tags": []
   },
   "outputs": [],
   "source": [
    "model = preprocessing.StandardScaler() \n",
    "model |= feature_extraction.PolynomialExtender()\n",
    "model |= linear_model.LinearRegression()"
   ]
  },
  {
   "cell_type": "markdown",
   "metadata": {},
   "source": [
    "A pipeline has a `draw` method that can be used to visualize it:"
   ]
  },
  {
   "cell_type": "code",
   "execution_count": 4,
   "metadata": {
    "tags": []
   },
   "outputs": [
    {
     "data": {
      "text/html": [
       "<div><div class=\"component pipeline\"><details class=\"component estimator\"><summary><pre class=\"estimator-name\">StandardScaler</pre></summary><code class=\"estimator-params\">\n",
       "{'counts': Counter(),\n",
       " 'means': defaultdict(&lt;class 'float'&gt;, {}),\n",
       " 'vars': defaultdict(&lt;class 'float'&gt;, {}),\n",
       " 'with_std': True}\n",
       "\n",
       "</code></details><details class=\"component estimator\"><summary><pre class=\"estimator-name\">PolynomialExtender</pre></summary><code class=\"estimator-params\">\n",
       "{'bias_name': 'bias',\n",
       " 'degree': 2,\n",
       " 'include_bias': False,\n",
       " 'interaction_only': False}\n",
       "\n",
       "</code></details><details class=\"component estimator\"><summary><pre class=\"estimator-name\">LinearRegression</pre></summary><code class=\"estimator-params\">\n",
       "{'_weights': {},\n",
       " '_y_name': None,\n",
       " 'clip_gradient': 1000000000000.0,\n",
       " 'initializer': Zeros (),\n",
       " 'intercept': 0.0,\n",
       " 'intercept_init': 0.0,\n",
       " 'intercept_lr': Constant({'learning_rate': 0.01}),\n",
       " 'l2': 0.0,\n",
       " 'loss': Squared({}),\n",
       " 'optimizer': SGD({'lr': Constant({'learning_rate': 0.01}), 'n_iterations': 0})}\n",
       "\n",
       "</code></details></div><style scoped>\n",
       ".estimator {\n",
       "    padding: 1em;\n",
       "    border-style: solid;\n",
       "    background: white;\n",
       "}\n",
       "\n",
       ".pipeline {\n",
       "    display: flex;\n",
       "    flex-direction: column;\n",
       "    align-items: center;\n",
       "    background: linear-gradient(#000, #000) no-repeat center / 3px 100%;\n",
       "}\n",
       "\n",
       ".union {\n",
       "    display: flex;\n",
       "    flex-direction: row;\n",
       "    align-items: center;\n",
       "    justify-content: center;\n",
       "    padding: 1em;\n",
       "    border-style: solid;\n",
       "    background: white\n",
       "}\n",
       "\n",
       ".wrapper {\n",
       "    display: flex;\n",
       "    flex-direction: column;\n",
       "    align-items: center;\n",
       "    justify-content: center;\n",
       "    padding: 1em;\n",
       "    border-style: solid;\n",
       "    background: white;\n",
       "}\n",
       "\n",
       ".wrapper > .estimator {\n",
       "    margin-top: 1em;\n",
       "}\n",
       "\n",
       "/* Vertical spacing between steps */\n",
       "\n",
       ".component + .component {\n",
       "    margin-top: 2em;\n",
       "}\n",
       "\n",
       ".union > .estimator {\n",
       "    margin-top: 0;\n",
       "}\n",
       "\n",
       ".union > .pipeline {\n",
       "    margin-top: 0;\n",
       "}\n",
       "\n",
       "/* Spacing within a union of estimators */\n",
       "\n",
       ".union > .component + .component {\n",
       "    margin-left: 1em;\n",
       "}\n",
       "\n",
       "/* Typography */\n",
       "\n",
       ".estimator-params {\n",
       "    display: block;\n",
       "    white-space: pre-wrap;\n",
       "    font-size: 120%;\n",
       "    margin-bottom: -1em;\n",
       "}\n",
       "\n",
       ".estimator > code,\n",
       ".wrapper > details > code {\n",
       "    background-color: white !important;\n",
       "}\n",
       "\n",
       ".estimator-name {\n",
       "    display: inline;\n",
       "    margin: 0;\n",
       "    font-size: 130%;\n",
       "}\n",
       "\n",
       "/* Toggle */\n",
       "\n",
       "summary {\n",
       "    display: flex;\n",
       "    align-items:center;\n",
       "    cursor: pointer;\n",
       "}\n",
       "\n",
       "summary > div {\n",
       "    width: 100%;\n",
       "}\n",
       "</style></div>"
      ],
      "text/plain": [
       "Pipeline (\n",
       "  StandardScaler (\n",
       "    with_std=True\n",
       "  ),\n",
       "  PolynomialExtender (\n",
       "    degree=2\n",
       "    interaction_only=False\n",
       "    include_bias=False\n",
       "    bias_name=\"bias\"\n",
       "  ),\n",
       "  LinearRegression (\n",
       "    optimizer=SGD (\n",
       "      lr=Constant (\n",
       "        learning_rate=0.01\n",
       "      )\n",
       "    )\n",
       "    loss=Squared ()\n",
       "    l2=0.\n",
       "    intercept_init=0.\n",
       "    intercept_lr=Constant (\n",
       "      learning_rate=0.01\n",
       "    )\n",
       "    clip_gradient=1e+12\n",
       "    initializer=Zeros ()\n",
       "  )\n",
       ")"
      ]
     },
     "execution_count": 4,
     "metadata": {},
     "output_type": "execute_result"
    }
   ],
   "source": [
    "model"
   ]
  },
  {
   "cell_type": "markdown",
   "metadata": {},
   "source": [
    "`compose.Pipeline` inherits from `base.Estimator`, which means that it has a `learn_one` method. You would expect `learn_one` to update each estimator, but **that's not actually what happens**. Instead, the transformers are updated when `predict_one` (or `predict_proba_one` for that matter) is called. Indeed, in online machine learning, we can update the unsupervised parts of our model when a sample arrives. We don't have to wait for the ground truth to arrive in order to update unsupervised estimators that don't depend on it. In other words, in a pipeline, `learn_one` updates the supervised parts, whilst `predict_one` updates the unsupervised parts. It's important to be aware of this behavior, as it is quite different to what is done in other libraries that rely on batch machine learning.\n",
    "\n",
    "Here is a small example to illustrate the previous point:"
   ]
  },
  {
   "cell_type": "code",
   "execution_count": 5,
   "metadata": {
    "tags": []
   },
   "outputs": [
    {
     "data": {
      "text/plain": [
       "({'ordinal_date': 736389,\n",
       "  'gallup': 43.843213,\n",
       "  'ipsos': 46.19925042857143,\n",
       "  'morning_consult': 48.318749,\n",
       "  'rasmussen': 44.104692,\n",
       "  'you_gov': 43.636914000000004},\n",
       " 43.75505)"
      ]
     },
     "execution_count": 5,
     "metadata": {},
     "output_type": "execute_result"
    }
   ],
   "source": [
    "from river import datasets\n",
    "\n",
    "dataset = datasets.TrumpApproval()\n",
    "x, y = next(iter(dataset))\n",
    "x, y"
   ]
  },
  {
   "cell_type": "markdown",
   "metadata": {},
   "source": [
    "Let us call `predict_one`, which will update each transformer, but won't update the linear regression."
   ]
  },
  {
   "cell_type": "code",
   "execution_count": 6,
   "metadata": {
    "tags": []
   },
   "outputs": [
    {
     "data": {
      "text/plain": [
       "0.0"
      ]
     },
     "execution_count": 6,
     "metadata": {},
     "output_type": "execute_result"
    }
   ],
   "source": [
    "model.predict_one(x)"
   ]
  },
  {
   "cell_type": "markdown",
   "metadata": {},
   "source": [
    "The prediction is nil because each weight of the linear regression is equal to 0."
   ]
  },
  {
   "cell_type": "code",
   "execution_count": 7,
   "metadata": {
    "tags": []
   },
   "outputs": [
    {
     "data": {
      "text/plain": [
       "defaultdict(float,\n",
       "            {'ordinal_date': 736389.0,\n",
       "             'gallup': 43.843213,\n",
       "             'ipsos': 46.19925042857143,\n",
       "             'morning_consult': 48.318749,\n",
       "             'rasmussen': 44.104692,\n",
       "             'you_gov': 43.636914000000004})"
      ]
     },
     "execution_count": 7,
     "metadata": {},
     "output_type": "execute_result"
    }
   ],
   "source": [
    "model['StandardScaler'].means"
   ]
  },
  {
   "cell_type": "markdown",
   "metadata": {},
   "source": [
    "As we can see, the means of each feature have been updated, even though we called `predict_one` and not `learn_one`.\n",
    "\n",
    "Note that if you call `transform_one` with a pipeline who's last step is not a transformer, then the output from the last transformer (which is thus the penultimate step) will be returned:"
   ]
  },
  {
   "cell_type": "code",
   "execution_count": 8,
   "metadata": {
    "tags": []
   },
   "outputs": [
    {
     "data": {
      "text/plain": [
       "{'ordinal_date': 0.0,\n",
       " 'gallup': 0.0,\n",
       " 'ipsos': 0.0,\n",
       " 'morning_consult': 0.0,\n",
       " 'rasmussen': 0.0,\n",
       " 'you_gov': 0.0,\n",
       " 'ordinal_date*ordinal_date': 0.0,\n",
       " 'gallup*ordinal_date': 0.0,\n",
       " 'ipsos*ordinal_date': 0.0,\n",
       " 'morning_consult*ordinal_date': 0.0,\n",
       " 'ordinal_date*rasmussen': 0.0,\n",
       " 'ordinal_date*you_gov': 0.0,\n",
       " 'gallup*gallup': 0.0,\n",
       " 'gallup*ipsos': 0.0,\n",
       " 'gallup*morning_consult': 0.0,\n",
       " 'gallup*rasmussen': 0.0,\n",
       " 'gallup*you_gov': 0.0,\n",
       " 'ipsos*ipsos': 0.0,\n",
       " 'ipsos*morning_consult': 0.0,\n",
       " 'ipsos*rasmussen': 0.0,\n",
       " 'ipsos*you_gov': 0.0,\n",
       " 'morning_consult*morning_consult': 0.0,\n",
       " 'morning_consult*rasmussen': 0.0,\n",
       " 'morning_consult*you_gov': 0.0,\n",
       " 'rasmussen*rasmussen': 0.0,\n",
       " 'rasmussen*you_gov': 0.0,\n",
       " 'you_gov*you_gov': 0.0}"
      ]
     },
     "execution_count": 8,
     "metadata": {},
     "output_type": "execute_result"
    }
   ],
   "source": [
    "model.transform_one(x)"
   ]
  },
  {
   "cell_type": "markdown",
   "metadata": {},
   "source": [
    "In many cases, you might want to connect a step to multiple steps. For instance, you might to extract different kinds of features from a single input. An elegant way to do this is to use a `compose.TransformerUnion`. Essentially, the latter is a list of transformers who's results will be merged into a single `dict` when `transform_one` is called. As an example let's say that we want to apply a `feature_extraction.RBFSampler` as well as the `feature_extraction.PolynomialExtender`. This may be done as so:"
   ]
  },
  {
   "cell_type": "code",
   "execution_count": 9,
   "metadata": {
    "tags": []
   },
   "outputs": [
    {
     "data": {
      "text/html": [
       "<div><div class=\"component pipeline\"><details class=\"component estimator\"><summary><pre class=\"estimator-name\">StandardScaler</pre></summary><code class=\"estimator-params\">\n",
       "{'counts': Counter(),\n",
       " 'means': defaultdict(&lt;class 'float'&gt;, {}),\n",
       " 'vars': defaultdict(&lt;class 'float'&gt;, {}),\n",
       " 'with_std': True}\n",
       "\n",
       "</code></details><div class=\"component union\"><details class=\"component estimator\"><summary><pre class=\"estimator-name\">PolynomialExtender</pre></summary><code class=\"estimator-params\">\n",
       "{'bias_name': 'bias',\n",
       " 'degree': 2,\n",
       " 'include_bias': False,\n",
       " 'interaction_only': False}\n",
       "\n",
       "</code></details><details class=\"component estimator\"><summary><pre class=\"estimator-name\">RBFSampler</pre></summary><code class=\"estimator-params\">\n",
       "{'gamma': 1.0,\n",
       " 'n_components': 100,\n",
       " 'offsets': [3.3510532411100926,\n",
       "             1.190142184105075,\n",
       "             4.758468173807059,\n",
       "             2.102487972776319,\n",
       "             1.480660275522741,\n",
       "             5.366729269710237,\n",
       "             5.070416334382951,\n",
       "             1.277733738266996,\n",
       "             2.207119719491707,\n",
       "             2.1426794957848565,\n",
       "             1.8225710193657765,\n",
       "             0.053985537083313495,\n",
       "             2.6438259461961584,\n",
       "             0.8971767883543308,\n",
       "             3.471297218403341,\n",
       "             2.6459033776328047,\n",
       "             1.9757793978738034,\n",
       "             5.087466036691654,\n",
       "             3.518448810009812,\n",
       "             5.758687368535289,\n",
       "             4.79849237290909,\n",
       "             5.743603500595328,\n",
       "             3.8577593701336594,\n",
       "             2.992220690658145,\n",
       "             4.6122186296260645,\n",
       "             2.1072783802275836,\n",
       "             3.2587620363834997,\n",
       "             4.18188290647669,\n",
       "             3.789865875963889,\n",
       "             1.3166941816528979,\n",
       "             2.1496598890995253,\n",
       "             0.5514213256928427,\n",
       "             6.133866289278633,\n",
       "             5.464360858865711,\n",
       "             4.291124096688779,\n",
       "             5.030631537283815,\n",
       "             0.9257361562479935,\n",
       "             6.114310134092216,\n",
       "             2.5412321682182526,\n",
       "             4.822019847592126,\n",
       "             0.49289853038336945,\n",
       "             5.662322515846727,\n",
       "             1.1066734350932208,\n",
       "             2.7859787189161023,\n",
       "             1.0923831484478823,\n",
       "             3.862364264034545,\n",
       "             4.57817015349273,\n",
       "             4.879251535793154,\n",
       "             3.2389588917501846,\n",
       "             0.8671594208818371,\n",
       "             0.3928381887147743,\n",
       "             0.8367553042176593,\n",
       "             5.487324628228967,\n",
       "             1.754506781747617,\n",
       "             1.4467895315220585,\n",
       "             4.95057422570524,\n",
       "             1.515646570633651,\n",
       "             0.7141957541762096,\n",
       "             2.6802165231715596,\n",
       "             3.1143643491751765,\n",
       "             3.2887707754133637,\n",
       "             4.698780590052855,\n",
       "             2.628523813897675,\n",
       "             3.051845846553334,\n",
       "             0.7137935763683448,\n",
       "             0.8668790249131346,\n",
       "             4.55066107913964,\n",
       "             5.448264849218835,\n",
       "             0.6859224016931418,\n",
       "             3.7014814797697153,\n",
       "             1.4690127755832323,\n",
       "             4.680232230781756,\n",
       "             2.1073009522234694,\n",
       "             3.8794879419289177,\n",
       "             0.9006462860416513,\n",
       "             2.682015494386968,\n",
       "             2.52991503710204,\n",
       "             2.2535812651434344,\n",
       "             5.407510051438392,\n",
       "             2.8275014865565486,\n",
       "             0.5645870178898392,\n",
       "             5.242344945410286,\n",
       "             1.609719168544174,\n",
       "             4.340295048969955,\n",
       "             2.927344299721854,\n",
       "             2.1090856426673503,\n",
       "             2.698017694795121,\n",
       "             5.749312469665515,\n",
       "             3.6999265064358733,\n",
       "             3.280883125056919,\n",
       "             5.481053451883993,\n",
       "             1.77331580361824,\n",
       "             0.0858416295646753,\n",
       "             5.316833856722039,\n",
       "             1.8426572018482168,\n",
       "             5.347342560277715,\n",
       "             5.1189679745176475,\n",
       "             1.2592524362712572,\n",
       "             3.637660524181257,\n",
       "             2.393108047753942],\n",
       " 'rng': &lt;random.Random object at 0x7ff61a344210&gt;,\n",
       " 'seed': None,\n",
       " 'weights': defaultdict(&lt;bound method RBFSampler._random_weights of RBFSampler (\n",
       "  gamma=1.\n",
       "  n_components=100\n",
       "  seed=None\n",
       ")&gt;, {})}\n",
       "\n",
       "</code></details></div><details class=\"component estimator\"><summary><pre class=\"estimator-name\">LinearRegression</pre></summary><code class=\"estimator-params\">\n",
       "{'_weights': {},\n",
       " '_y_name': None,\n",
       " 'clip_gradient': 1000000000000.0,\n",
       " 'initializer': Zeros (),\n",
       " 'intercept': 0.0,\n",
       " 'intercept_init': 0.0,\n",
       " 'intercept_lr': Constant({'learning_rate': 0.01}),\n",
       " 'l2': 0.0,\n",
       " 'loss': Squared({}),\n",
       " 'optimizer': SGD({'lr': Constant({'learning_rate': 0.01}), 'n_iterations': 0})}\n",
       "\n",
       "</code></details></div><style scoped>\n",
       ".estimator {\n",
       "    padding: 1em;\n",
       "    border-style: solid;\n",
       "    background: white;\n",
       "}\n",
       "\n",
       ".pipeline {\n",
       "    display: flex;\n",
       "    flex-direction: column;\n",
       "    align-items: center;\n",
       "    background: linear-gradient(#000, #000) no-repeat center / 3px 100%;\n",
       "}\n",
       "\n",
       ".union {\n",
       "    display: flex;\n",
       "    flex-direction: row;\n",
       "    align-items: center;\n",
       "    justify-content: center;\n",
       "    padding: 1em;\n",
       "    border-style: solid;\n",
       "    background: white\n",
       "}\n",
       "\n",
       ".wrapper {\n",
       "    display: flex;\n",
       "    flex-direction: column;\n",
       "    align-items: center;\n",
       "    justify-content: center;\n",
       "    padding: 1em;\n",
       "    border-style: solid;\n",
       "    background: white;\n",
       "}\n",
       "\n",
       ".wrapper > .estimator {\n",
       "    margin-top: 1em;\n",
       "}\n",
       "\n",
       "/* Vertical spacing between steps */\n",
       "\n",
       ".component + .component {\n",
       "    margin-top: 2em;\n",
       "}\n",
       "\n",
       ".union > .estimator {\n",
       "    margin-top: 0;\n",
       "}\n",
       "\n",
       ".union > .pipeline {\n",
       "    margin-top: 0;\n",
       "}\n",
       "\n",
       "/* Spacing within a union of estimators */\n",
       "\n",
       ".union > .component + .component {\n",
       "    margin-left: 1em;\n",
       "}\n",
       "\n",
       "/* Typography */\n",
       "\n",
       ".estimator-params {\n",
       "    display: block;\n",
       "    white-space: pre-wrap;\n",
       "    font-size: 120%;\n",
       "    margin-bottom: -1em;\n",
       "}\n",
       "\n",
       ".estimator > code,\n",
       ".wrapper > details > code {\n",
       "    background-color: white !important;\n",
       "}\n",
       "\n",
       ".estimator-name {\n",
       "    display: inline;\n",
       "    margin: 0;\n",
       "    font-size: 130%;\n",
       "}\n",
       "\n",
       "/* Toggle */\n",
       "\n",
       "summary {\n",
       "    display: flex;\n",
       "    align-items:center;\n",
       "    cursor: pointer;\n",
       "}\n",
       "\n",
       "summary > div {\n",
       "    width: 100%;\n",
       "}\n",
       "</style></div>"
      ],
      "text/plain": [
       "Pipeline (\n",
       "  StandardScaler (\n",
       "    with_std=True\n",
       "  ),\n",
       "  TransformerUnion (\n",
       "    PolynomialExtender (\n",
       "      degree=2\n",
       "      interaction_only=False\n",
       "      include_bias=False\n",
       "      bias_name=\"bias\"\n",
       "    ),\n",
       "    RBFSampler (\n",
       "      gamma=1.\n",
       "      n_components=100\n",
       "      seed=None\n",
       "    )\n",
       "  ),\n",
       "  LinearRegression (\n",
       "    optimizer=SGD (\n",
       "      lr=Constant (\n",
       "        learning_rate=0.01\n",
       "      )\n",
       "    )\n",
       "    loss=Squared ()\n",
       "    l2=0.\n",
       "    intercept_init=0.\n",
       "    intercept_lr=Constant (\n",
       "      learning_rate=0.01\n",
       "    )\n",
       "    clip_gradient=1e+12\n",
       "    initializer=Zeros ()\n",
       "  )\n",
       ")"
      ]
     },
     "execution_count": 9,
     "metadata": {},
     "output_type": "execute_result"
    }
   ],
   "source": [
    "model = (\n",
    "    preprocessing.StandardScaler() |\n",
    "    (feature_extraction.PolynomialExtender() + feature_extraction.RBFSampler()) |\n",
    "    linear_model.LinearRegression()\n",
    ")\n",
    "\n",
    "model"
   ]
  },
  {
   "cell_type": "markdown",
   "metadata": {},
   "source": [
    "Note that the `+` symbol acts as a shorthand notation for creating a `compose.TransformerUnion`, which means that we could have declared the above pipeline as so:"
   ]
  },
  {
   "cell_type": "code",
   "execution_count": 10,
   "metadata": {
    "tags": []
   },
   "outputs": [],
   "source": [
    "model = (\n",
    "    preprocessing.StandardScaler() |\n",
    "    compose.TransformerUnion(\n",
    "        feature_extraction.PolynomialExtender(),\n",
    "        feature_extraction.RBFSampler()\n",
    "    ) |\n",
    "    linear_model.LinearRegression()\n",
    ")"
   ]
  },
  {
   "cell_type": "markdown",
   "metadata": {},
   "source": [
    "Pipelines provide the benefit of removing a lot of cruft by taking care of tedious details for you. They also enable to clearly define what steps your model is made of. Finally, having your model in a single object means that you can move it around more easily. Note that you can include user-defined functions in a pipeline by using a `compose.FuncTransformer`."
   ]
  }
 ],
 "metadata": {
  "kernelspec": {
   "display_name": "Python 3",
   "language": "python",
   "name": "python3"
  },
  "language_info": {
   "codemirror_mode": {
    "name": "ipython",
    "version": 3
   },
   "file_extension": ".py",
   "mimetype": "text/x-python",
   "name": "python",
   "nbconvert_exporter": "python",
   "pygments_lexer": "ipython3",
   "version": "3.8.5"
  }
 },
 "nbformat": 4,
 "nbformat_minor": 4
}
