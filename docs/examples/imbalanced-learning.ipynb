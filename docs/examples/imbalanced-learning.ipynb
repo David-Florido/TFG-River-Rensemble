{
 "cells": [
  {
   "cell_type": "markdown",
   "metadata": {},
   "source": [
    "# Working with imbalanced data"
   ]
  },
  {
   "cell_type": "markdown",
   "metadata": {},
   "source": [
    "In machine learning it is quite usual to have to deal with imbalanced dataset. This is particularly true in online learning for tasks such as fraud detection and spam classification. In these two cases, which are binary classification problems, there are usually many more 0s than 1s, which generally hinders the performance of the classifiers we thrown at them.\n",
    "\n",
    "As an example we'll use the credit card dataset available in `river`. We'll first use a `collections.Counter` to count the number of 0s and 1s in order to get an idea of the class balance."
   ]
  },
  {
   "cell_type": "code",
   "execution_count": 1,
   "metadata": {
    "tags": []
   },
   "outputs": [
    {
     "name": "stdout",
     "output_type": "stream",
     "text": [
      "0: 284315 (99.82725%)\n",
      "1: 492 (0.17275%)\n"
     ]
    }
   ],
   "source": [
    "import collections\n",
    "from river import datasets\n",
    "\n",
    "X_y = datasets.CreditCard()\n",
    "\n",
    "counts = collections.Counter(y for _, y in X_y)\n",
    "\n",
    "for c, count in counts.items():\n",
    "    print(f'{c}: {count} ({count / sum(counts.values()):.5%})')"
   ]
  },
  {
   "cell_type": "markdown",
   "metadata": {},
   "source": [
    "## Baseline"
   ]
  },
  {
   "cell_type": "markdown",
   "metadata": {},
   "source": [
    "The dataset is quite unbalanced. For each 1 there are about 578 0s. Let's now train a logistic regression with default parameters and see how well it does. We'll measure the ROC AUC score."
   ]
  },
  {
   "cell_type": "code",
   "execution_count": 2,
   "metadata": {
    "tags": []
   },
   "outputs": [
    {
     "data": {
      "text/plain": [
       "ROCAUC: 0.891072"
      ]
     },
     "execution_count": 2,
     "metadata": {},
     "output_type": "execute_result"
    }
   ],
   "source": [
    "from river import linear_model\n",
    "from river import metrics\n",
    "from river import evaluate\n",
    "from river import preprocessing\n",
    "\n",
    "\n",
    "X_y = datasets.CreditCard()\n",
    "\n",
    "model = (\n",
    "    preprocessing.StandardScaler() |\n",
    "    linear_model.LogisticRegression()\n",
    ")\n",
    "\n",
    "metric = metrics.ROCAUC()\n",
    "\n",
    "evaluate.progressive_val_score(X_y, model, metric)"
   ]
  },
  {
   "cell_type": "markdown",
   "metadata": {},
   "source": [
    "## Importance weighting"
   ]
  },
  {
   "cell_type": "markdown",
   "metadata": {},
   "source": [
    "The performance is already quite acceptable, but as we will now see we can do even better. The first thing we can do is to add weight to the 1s by using the `weight_pos` argument of the `Log` loss function."
   ]
  },
  {
   "cell_type": "code",
   "execution_count": 3,
   "metadata": {
    "tags": []
   },
   "outputs": [
    {
     "data": {
      "text/plain": [
       "ROCAUC: 0.914269"
      ]
     },
     "execution_count": 3,
     "metadata": {},
     "output_type": "execute_result"
    }
   ],
   "source": [
    "from river import optim\n",
    "\n",
    "model = (\n",
    "    preprocessing.StandardScaler() |\n",
    "    linear_model.LogisticRegression(\n",
    "        loss=optim.losses.Log(weight_pos=5)\n",
    "    )\n",
    ")\n",
    "\n",
    "metric = metrics.ROCAUC()\n",
    "\n",
    "evaluate.progressive_val_score(X_y, model, metric)"
   ]
  },
  {
   "cell_type": "markdown",
   "metadata": {},
   "source": [
    "## Focal loss\n",
    "\n",
    "The deep learning for object detection community has produced a special loss function for imbalanced learning called [focal loss](https://arxiv.org/pdf/1708.02002.pdf). We are doing binary classification, so we can plug the binary version of focal loss into our logistic regression and see how well it fairs."
   ]
  },
  {
   "cell_type": "code",
   "execution_count": 4,
   "metadata": {
    "tags": []
   },
   "outputs": [
    {
     "data": {
      "text/plain": [
       "ROCAUC: 0.913072"
      ]
     },
     "execution_count": 4,
     "metadata": {},
     "output_type": "execute_result"
    }
   ],
   "source": [
    "model = (\n",
    "    preprocessing.StandardScaler() |\n",
    "    linear_model.LogisticRegression(loss=optim.losses.BinaryFocalLoss(2, 1))\n",
    ")\n",
    "\n",
    "metric = metrics.ROCAUC()\n",
    "\n",
    "evaluate.progressive_val_score(X_y, model, metric)"
   ]
  },
  {
   "cell_type": "markdown",
   "metadata": {},
   "source": [
    "## Under-sampling the majority class"
   ]
  },
  {
   "cell_type": "markdown",
   "metadata": {},
   "source": [
    "Adding importance weights only works with gradient-based models (which includes neural networks). A more generic, and potentially more effective approach, is to use undersamplig and oversampling. As an example, we'll under-sample the stream so that our logistic regression encounter 20% of 1s and 80% of 0s. Under-sampling has the additional benefit of requiring less training steps, and thus reduces the total training time."
   ]
  },
  {
   "cell_type": "code",
   "execution_count": 5,
   "metadata": {
    "tags": []
   },
   "outputs": [
    {
     "data": {
      "text/plain": [
       "ROCAUC: 0.948824"
      ]
     },
     "execution_count": 5,
     "metadata": {},
     "output_type": "execute_result"
    }
   ],
   "source": [
    "from river import imblearn\n",
    "\n",
    "model = (\n",
    "    preprocessing.StandardScaler() |\n",
    "    imblearn.RandomUnderSampler(\n",
    "        classifier=linear_model.LogisticRegression(),\n",
    "        desired_dist={0: .8, 1: .2},\n",
    "        seed=42\n",
    "    )\n",
    ")\n",
    "\n",
    "metric = metrics.ROCAUC()\n",
    "\n",
    "evaluate.progressive_val_score(X_y, model, metric)"
   ]
  },
  {
   "cell_type": "markdown",
   "metadata": {},
   "source": [
    "The `RandomUnderSampler` class is a wrapper for classifiers. This is represented by a rectangle around the logistic regression bubble when we visualize the model."
   ]
  },
  {
   "cell_type": "code",
   "execution_count": 6,
   "metadata": {
    "tags": []
   },
   "outputs": [
    {
     "data": {
      "text/html": [
       "<div><div class=\"component pipeline\"><details class=\"component estimator\"><summary><pre class=\"estimator-name\">StandardScaler</pre></summary><code class=\"estimator-params\">\n",
       "{'counts': Counter({'Time': 284807,\n",
       "                    'V1': 284807,\n",
       "                    'V2': 284807,\n",
       "                    'V3': 284807,\n",
       "                    'V4': 284807,\n",
       "                    'V5': 284807,\n",
       "                    'V6': 284807,\n",
       "                    'V7': 284807,\n",
       "                    'V8': 284807,\n",
       "                    'V9': 284807,\n",
       "                    'V10': 284807,\n",
       "                    'V11': 284807,\n",
       "                    'V12': 284807,\n",
       "                    'V13': 284807,\n",
       "                    'V14': 284807,\n",
       "                    'V15': 284807,\n",
       "                    'V16': 284807,\n",
       "                    'V17': 284807,\n",
       "                    'V18': 284807,\n",
       "                    'V19': 284807,\n",
       "                    'V20': 284807,\n",
       "                    'V21': 284807,\n",
       "                    'V22': 284807,\n",
       "                    'V23': 284807,\n",
       "                    'V24': 284807,\n",
       "                    'V25': 284807,\n",
       "                    'V26': 284807,\n",
       "                    'V27': 284807,\n",
       "                    'V28': 284807,\n",
       "                    'Amount': 284807}),\n",
       " 'means': defaultdict(&lt;class 'float'&gt;,\n",
       "                      {'Amount': 88.34961925093155,\n",
       "                       'Time': 94813.8595750808,\n",
       "                       'V1': 2.9277520180090704e-15,\n",
       "                       'V10': 2.419775348112352e-15,\n",
       "                       'V11': 2.6777824308789593e-15,\n",
       "                       'V12': -2.2140916080800113e-15,\n",
       "                       'V13': 8.342900777166882e-16,\n",
       "                       'V14': 1.903846574088133e-15,\n",
       "                       'V15': 8.581815631423259e-15,\n",
       "                       'V16': 1.4766213137618707e-15,\n",
       "                       'V17': -1.6801787893383664e-16,\n",
       "                       'V18': 5.854597499006342e-16,\n",
       "                       'V19': 1.0841438330912623e-15,\n",
       "                       'V2': 5.886023480140661e-16,\n",
       "                       'V20': 7.744049542249276e-16,\n",
       "                       'V21': 2.332071227413037e-16,\n",
       "                       'V22': 4.956273530422241e-16,\n",
       "                       'V23': -2.4249219202998693e-16,\n",
       "                       'V24': 4.437131669261511e-15,\n",
       "                       'V25': -6.981503896318856e-16,\n",
       "                       'V26': 1.6805599541646309e-15,\n",
       "                       'V27': -3.266881107112892e-16,\n",
       "                       'V28': -1.173670292237036e-16,\n",
       "                       'V3': -1.2140654523102711e-15,\n",
       "                       'V4': 3.4083746059071583e-15,\n",
       "                       'V5': 3.0974740213536643e-15,\n",
       "                       'V6': 1.6259034591771526e-15,\n",
       "                       'V7': -1.293283785185756e-16,\n",
       "                       'V8': 3.1643541546820877e-16,\n",
       "                       'V9': -1.6996522885539796e-15}),\n",
       " 'vars': defaultdict(&lt;class 'float'&gt;,\n",
       "                     {'Amount': 62559.84938856013,\n",
       "                      'Time': 2255116088.124347,\n",
       "                      'V1': 3.8364757815609964,\n",
       "                      'V10': 1.1855896488198305,\n",
       "                      'V11': 1.041851426830977,\n",
       "                      'V12': 0.9983999112951535,\n",
       "                      'V13': 0.9905673151089326,\n",
       "                      'V14': 0.9189023195064231,\n",
       "                      'V15': 0.837800459457307,\n",
       "                      'V16': 0.7678164267285925,\n",
       "                      'V17': 0.721370914880897,\n",
       "                      'V18': 0.7025368914993138,\n",
       "                      'V19': 0.6626596101863256,\n",
       "                      'V2': 2.726810450381156,\n",
       "                      'V20': 0.594323307231822,\n",
       "                      'V21': 0.5395236333332668,\n",
       "                      'V22': 0.5266409057048476,\n",
       "                      'V23': 0.3899492915994535,\n",
       "                      'V24': 0.3668070828485584,\n",
       "                      'V25': 0.27172987273928645,\n",
       "                      'V26': 0.23254207582578096,\n",
       "                      'V27': 0.16291861895803472,\n",
       "                      'V28': 0.10895457872151114,\n",
       "                      'V3': 2.2990211684909436,\n",
       "                      'V4': 2.004676782760293,\n",
       "                      'V5': 1.905074357779823,\n",
       "                      'V6': 1.7749400245019011,\n",
       "                      'V7': 1.5303951971990823,\n",
       "                      'V8': 1.426473847533605,\n",
       "                      'V9': 1.2069882295421888}),\n",
       " 'with_std': True}\n",
       "\n",
       "</code></details><div class=\"component wrapper\"><details><summary><pre class=\"estimator-name\">RandomUnderSampler</pre></summary><code class=\"estimator-params\">\n",
       "{'_actual_dist': Counter({0: 284315, 1: 492}),\n",
       " '_pivot': 1,\n",
       " '_rng': RandomState(MT19937) at 0x7FB79EA22A40,\n",
       " 'classifier': LogisticRegression (\n",
       "  optimizer=SGD (\n",
       "    lr=Constant (\n",
       "      learning_rate=0.01\n",
       "    )\n",
       "  )\n",
       "  loss=Log (\n",
       "    weight_pos=1.\n",
       "    weight_neg=1.\n",
       "  )\n",
       "  l2=0.\n",
       "  intercept_init=0.\n",
       "  intercept_lr=Constant (\n",
       "    learning_rate=0.01\n",
       "  )\n",
       "  clip_gradient=1e+12\n",
       "  initializer=Zeros ()\n",
       "),\n",
       " 'desired_dist': {0: 0.8, 1: 0.2},\n",
       " 'seed': 42}\n",
       "\n",
       "</code></details><details class=\"component estimator\"><summary><pre class=\"estimator-name\">LogisticRegression</pre></summary><code class=\"estimator-params\">\n",
       "{'_weights': {'Time': -1.6641306264784972, 'V1': -0.1599659187750452, 'V2': 0.04344696123719202, 'V3': -0.2721170522268713, 'V4': 0.6916589139943812, 'V5': 0.17021248440050196, 'V6': -0.10985861853253961, 'V7': -0.06417467297089502, 'V8': -0.27620200713013304, 'V9': -0.03588628034795379, 'V10': -0.23052292417060072, 'V11': 0.2559724882472953, 'V12': -0.5896873005805503, 'V13': -0.00781916404772026, 'V14': -0.533977051320637, 'V15': -0.11682052362352723, 'V16': -0.21516217614349042, 'V17': -0.009152723158714259, 'V18': 0.07914978322313096, 'V19': -0.059805830541265016, 'V20': 0.027488030533780676, 'V21': 0.06830376534645256, 'V22': 0.1238012301169065, 'V23': -0.11595605141684359, 'V24': 0.04893230557346892, 'V25': -0.06549541465389698, 'V26': -0.05345696163492266, 'V27': 0.023779407654823708, 'V28': 0.1187553855561891, 'Amount': 0.2276158366259826},\n",
       " '_y_name': None,\n",
       " 'clip_gradient': 1000000000000.0,\n",
       " 'initializer': Zeros (),\n",
       " 'intercept': -1.0742178747798434,\n",
       " 'intercept_init': 0.0,\n",
       " 'intercept_lr': Constant({'learning_rate': 0.01}),\n",
       " 'l2': 0.0,\n",
       " 'loss': Log({'weight_pos': 1.0, 'weight_neg': 1.0}),\n",
       " 'optimizer': SGD({'lr': Constant({'learning_rate': 0.01}), 'n_iterations': 3562})}\n",
       "\n",
       "</code></details></div></div><style scoped>\n",
       ".estimator {\n",
       "    padding: 1em;\n",
       "    border-style: solid;\n",
       "    background: white;\n",
       "}\n",
       "\n",
       ".pipeline {\n",
       "    display: flex;\n",
       "    flex-direction: column;\n",
       "    align-items: center;\n",
       "    background: linear-gradient(#000, #000) no-repeat center / 3px 100%;\n",
       "}\n",
       "\n",
       ".union {\n",
       "    display: flex;\n",
       "    flex-direction: row;\n",
       "    align-items: center;\n",
       "    justify-content: center;\n",
       "    padding: 1em;\n",
       "    border-style: solid;\n",
       "    background: white\n",
       "}\n",
       "\n",
       ".wrapper {\n",
       "    display: flex;\n",
       "    flex-direction: column;\n",
       "    align-items: center;\n",
       "    justify-content: center;\n",
       "    padding: 1em;\n",
       "    border-style: solid;\n",
       "    background: white;\n",
       "}\n",
       "\n",
       ".wrapper > .estimator {\n",
       "    margin-top: 1em;\n",
       "}\n",
       "\n",
       "/* Vertical spacing between steps */\n",
       "\n",
       ".component + .component {\n",
       "    margin-top: 2em;\n",
       "}\n",
       "\n",
       ".union > .estimator {\n",
       "    margin-top: 0;\n",
       "}\n",
       "\n",
       ".union > .pipeline {\n",
       "    margin-top: 0;\n",
       "}\n",
       "\n",
       "/* Spacing within a union of estimators */\n",
       "\n",
       ".union > .component + .component {\n",
       "    margin-left: 1em;\n",
       "}\n",
       "\n",
       "/* Typography */\n",
       "\n",
       ".estimator-params {\n",
       "    display: block;\n",
       "    white-space: pre-wrap;\n",
       "    font-size: 120%;\n",
       "    margin-bottom: -1em;\n",
       "}\n",
       "\n",
       ".estimator > code,\n",
       ".wrapper > details > code {\n",
       "    background-color: white !important;\n",
       "}\n",
       "\n",
       ".estimator-name {\n",
       "    display: inline;\n",
       "    margin: 0;\n",
       "    font-size: 130%;\n",
       "}\n",
       "\n",
       "/* Toggle */\n",
       "\n",
       "summary {\n",
       "    display: flex;\n",
       "    align-items:center;\n",
       "    cursor: pointer;\n",
       "}\n",
       "\n",
       "summary > div {\n",
       "    width: 100%;\n",
       "}\n",
       "</style></div>"
      ],
      "text/plain": [
       "Pipeline (\n",
       "  StandardScaler (\n",
       "    with_std=True\n",
       "  ),\n",
       "  RandomUnderSampler (\n",
       "    classifier=LogisticRegression (\n",
       "      optimizer=SGD (\n",
       "        lr=Constant (\n",
       "          learning_rate=0.01\n",
       "        )\n",
       "      )\n",
       "      loss=Log (\n",
       "        weight_pos=1.\n",
       "        weight_neg=1.\n",
       "      )\n",
       "      l2=0.\n",
       "      intercept_init=0.\n",
       "      intercept_lr=Constant (\n",
       "        learning_rate=0.01\n",
       "      )\n",
       "      clip_gradient=1e+12\n",
       "      initializer=Zeros ()\n",
       "    )\n",
       "    desired_dist={0: 0.8, 1: 0.2}\n",
       "    seed=42\n",
       "  )\n",
       ")"
      ]
     },
     "execution_count": 6,
     "metadata": {},
     "output_type": "execute_result"
    }
   ],
   "source": [
    "model"
   ]
  },
  {
   "cell_type": "markdown",
   "metadata": {},
   "source": [
    "## Over-sampling the minority class"
   ]
  },
  {
   "cell_type": "markdown",
   "metadata": {},
   "source": [
    "We can also attain the same class distribution by over-sampling the minority class. This will come at cost of having to train with more samples."
   ]
  },
  {
   "cell_type": "code",
   "execution_count": 7,
   "metadata": {
    "tags": []
   },
   "outputs": [
    {
     "data": {
      "text/plain": [
       "ROCAUC: 0.918082"
      ]
     },
     "execution_count": 7,
     "metadata": {},
     "output_type": "execute_result"
    }
   ],
   "source": [
    "model = (\n",
    "    preprocessing.StandardScaler() |\n",
    "    imblearn.RandomOverSampler(\n",
    "        classifier=linear_model.LogisticRegression(),\n",
    "        desired_dist={0: .8, 1: .2},\n",
    "        seed=42\n",
    "    )\n",
    ")\n",
    "\n",
    "metric = metrics.ROCAUC()\n",
    "\n",
    "evaluate.progressive_val_score(X_y, model, metric)"
   ]
  },
  {
   "cell_type": "markdown",
   "metadata": {},
   "source": [
    "## Sampling with a desired sample size\n",
    "\n",
    "The downside of both `RandomUnderSampler` and `RandomOverSampler` is that you don't have any control on the amount of data the classifier trains on. The number of samples is adjusted so that the target distribution can be attained, either by under-sampling or over-sampling. However, you can do both at the same time and choose how much data the classifier will see. To do so, we can use the `RandomSampler` class. In addition to the desired class distribution, we can specify how much data to train on. The samples will both be under-sampled and over-sampled in order to fit your constraints. This is powerful because it allows you to control both the class distribution and the size of the training data (and thus the training time). In the following example we'll set it so that the model will train with 1 percent of the data."
   ]
  },
  {
   "cell_type": "code",
   "execution_count": 8,
   "metadata": {
    "tags": []
   },
   "outputs": [
    {
     "data": {
      "text/plain": [
       "ROCAUC: 0.951296"
      ]
     },
     "execution_count": 8,
     "metadata": {},
     "output_type": "execute_result"
    }
   ],
   "source": [
    "model = (\n",
    "    preprocessing.StandardScaler() |\n",
    "    imblearn.RandomSampler(\n",
    "        classifier=linear_model.LogisticRegression(),\n",
    "        desired_dist={0: .8, 1: .2},\n",
    "        sampling_rate=.01,\n",
    "        seed=42\n",
    "    )\n",
    ")\n",
    "\n",
    "metric = metrics.ROCAUC()\n",
    "\n",
    "evaluate.progressive_val_score(X_y, model, metric)"
   ]
  },
  {
   "cell_type": "markdown",
   "metadata": {},
   "source": [
    "## Hybrid approach\n",
    "\n",
    "As you might have guessed by now, nothing is stopping you from mixing imbalanced learning methods together. As an example, let's combine `sampling.RandomUnderSampler` and the `weight_pos` parameter from the `optim.losses.Log` loss function."
   ]
  },
  {
   "cell_type": "code",
   "execution_count": 9,
   "metadata": {
    "tags": []
   },
   "outputs": [
    {
     "data": {
      "text/plain": [
       "ROCAUC: 0.968289"
      ]
     },
     "execution_count": 9,
     "metadata": {},
     "output_type": "execute_result"
    }
   ],
   "source": [
    "model = (\n",
    "    preprocessing.StandardScaler() |\n",
    "    imblearn.RandomUnderSampler(\n",
    "        classifier=linear_model.LogisticRegression(\n",
    "            loss=optim.losses.Log(weight_pos=5)\n",
    "        ),\n",
    "        desired_dist={0: .8, 1: .2},\n",
    "        seed=42\n",
    "    )\n",
    ")\n",
    "\n",
    "metric = metrics.ROCAUC()\n",
    "\n",
    "evaluate.progressive_val_score(X_y, model, metric)"
   ]
  }
 ],
 "metadata": {
  "kernelspec": {
   "display_name": "Python 3",
   "language": "python",
   "name": "python3"
  },
  "language_info": {
   "codemirror_mode": {
    "name": "ipython",
    "version": 3
   },
   "file_extension": ".py",
   "mimetype": "text/x-python",
   "name": "python",
   "nbconvert_exporter": "python",
   "pygments_lexer": "ipython3",
   "version": "3.8.5"
  }
 },
 "nbformat": 4,
 "nbformat_minor": 4
}
